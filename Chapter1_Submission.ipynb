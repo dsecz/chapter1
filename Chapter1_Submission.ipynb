{
 "cells": [
  {
   "cell_type": "markdown",
   "id": "5e63236d",
   "metadata": {},
   "source": [
    "# Project: Writing a Data Scientist Blog Post\n",
    "\n",
    "Looking at the following questions:\n",
    "- 1.How is the career satisfaction influenced by company size and job seeking status?\n",
    "- 2.What are the professions and salary feelings of those who work in a Publicly-traded corporation?\n",
    "- 3.How well can we predict an individual's career satisfaction based on current salary, hours worked per week and job satisfaction? What aspects correlate well with the career satisfaction?"
   ]
  },
  {
   "cell_type": "code",
   "execution_count": 1,
   "id": "d7c65576",
   "metadata": {},
   "outputs": [
    {
     "data": {
      "text/html": [
       "<div>\n",
       "<style scoped>\n",
       "    .dataframe tbody tr th:only-of-type {\n",
       "        vertical-align: middle;\n",
       "    }\n",
       "\n",
       "    .dataframe tbody tr th {\n",
       "        vertical-align: top;\n",
       "    }\n",
       "\n",
       "    .dataframe thead th {\n",
       "        text-align: right;\n",
       "    }\n",
       "</style>\n",
       "<table border=\"1\" class=\"dataframe\">\n",
       "  <thead>\n",
       "    <tr style=\"text-align: right;\">\n",
       "      <th></th>\n",
       "      <th>Respondent</th>\n",
       "      <th>Professional</th>\n",
       "      <th>ProgramHobby</th>\n",
       "      <th>Country</th>\n",
       "      <th>University</th>\n",
       "      <th>EmploymentStatus</th>\n",
       "      <th>FormalEducation</th>\n",
       "      <th>MajorUndergrad</th>\n",
       "      <th>HomeRemote</th>\n",
       "      <th>CompanySize</th>\n",
       "      <th>...</th>\n",
       "      <th>StackOverflowMakeMoney</th>\n",
       "      <th>Gender</th>\n",
       "      <th>HighestEducationParents</th>\n",
       "      <th>Race</th>\n",
       "      <th>SurveyLong</th>\n",
       "      <th>QuestionsInteresting</th>\n",
       "      <th>QuestionsConfusing</th>\n",
       "      <th>InterestedAnswers</th>\n",
       "      <th>Salary</th>\n",
       "      <th>ExpectedSalary</th>\n",
       "    </tr>\n",
       "  </thead>\n",
       "  <tbody>\n",
       "    <tr>\n",
       "      <th>0</th>\n",
       "      <td>1</td>\n",
       "      <td>Student</td>\n",
       "      <td>Yes, both</td>\n",
       "      <td>United States</td>\n",
       "      <td>No</td>\n",
       "      <td>Not employed, and not looking for work</td>\n",
       "      <td>Secondary school</td>\n",
       "      <td>NaN</td>\n",
       "      <td>NaN</td>\n",
       "      <td>NaN</td>\n",
       "      <td>...</td>\n",
       "      <td>Strongly disagree</td>\n",
       "      <td>Male</td>\n",
       "      <td>High school</td>\n",
       "      <td>White or of European descent</td>\n",
       "      <td>Strongly disagree</td>\n",
       "      <td>Strongly agree</td>\n",
       "      <td>Disagree</td>\n",
       "      <td>Strongly agree</td>\n",
       "      <td>NaN</td>\n",
       "      <td>NaN</td>\n",
       "    </tr>\n",
       "    <tr>\n",
       "      <th>1</th>\n",
       "      <td>2</td>\n",
       "      <td>Student</td>\n",
       "      <td>Yes, both</td>\n",
       "      <td>United Kingdom</td>\n",
       "      <td>Yes, full-time</td>\n",
       "      <td>Employed part-time</td>\n",
       "      <td>Some college/university study without earning ...</td>\n",
       "      <td>Computer science or software engineering</td>\n",
       "      <td>More than half, but not all, the time</td>\n",
       "      <td>20 to 99 employees</td>\n",
       "      <td>...</td>\n",
       "      <td>Strongly disagree</td>\n",
       "      <td>Male</td>\n",
       "      <td>A master's degree</td>\n",
       "      <td>White or of European descent</td>\n",
       "      <td>Somewhat agree</td>\n",
       "      <td>Somewhat agree</td>\n",
       "      <td>Disagree</td>\n",
       "      <td>Strongly agree</td>\n",
       "      <td>NaN</td>\n",
       "      <td>37500.0</td>\n",
       "    </tr>\n",
       "    <tr>\n",
       "      <th>2</th>\n",
       "      <td>3</td>\n",
       "      <td>Professional developer</td>\n",
       "      <td>Yes, both</td>\n",
       "      <td>United Kingdom</td>\n",
       "      <td>No</td>\n",
       "      <td>Employed full-time</td>\n",
       "      <td>Bachelor's degree</td>\n",
       "      <td>Computer science or software engineering</td>\n",
       "      <td>Less than half the time, but at least one day ...</td>\n",
       "      <td>10,000 or more employees</td>\n",
       "      <td>...</td>\n",
       "      <td>Disagree</td>\n",
       "      <td>Male</td>\n",
       "      <td>A professional degree</td>\n",
       "      <td>White or of European descent</td>\n",
       "      <td>Somewhat agree</td>\n",
       "      <td>Agree</td>\n",
       "      <td>Disagree</td>\n",
       "      <td>Agree</td>\n",
       "      <td>113750.0</td>\n",
       "      <td>NaN</td>\n",
       "    </tr>\n",
       "    <tr>\n",
       "      <th>3</th>\n",
       "      <td>4</td>\n",
       "      <td>Professional non-developer who sometimes write...</td>\n",
       "      <td>Yes, both</td>\n",
       "      <td>United States</td>\n",
       "      <td>No</td>\n",
       "      <td>Employed full-time</td>\n",
       "      <td>Doctoral degree</td>\n",
       "      <td>A non-computer-focused engineering discipline</td>\n",
       "      <td>Less than half the time, but at least one day ...</td>\n",
       "      <td>10,000 or more employees</td>\n",
       "      <td>...</td>\n",
       "      <td>Disagree</td>\n",
       "      <td>Male</td>\n",
       "      <td>A doctoral degree</td>\n",
       "      <td>White or of European descent</td>\n",
       "      <td>Agree</td>\n",
       "      <td>Agree</td>\n",
       "      <td>Somewhat agree</td>\n",
       "      <td>Strongly agree</td>\n",
       "      <td>NaN</td>\n",
       "      <td>NaN</td>\n",
       "    </tr>\n",
       "    <tr>\n",
       "      <th>4</th>\n",
       "      <td>5</td>\n",
       "      <td>Professional developer</td>\n",
       "      <td>Yes, I program as a hobby</td>\n",
       "      <td>Switzerland</td>\n",
       "      <td>No</td>\n",
       "      <td>Employed full-time</td>\n",
       "      <td>Master's degree</td>\n",
       "      <td>Computer science or software engineering</td>\n",
       "      <td>Never</td>\n",
       "      <td>10 to 19 employees</td>\n",
       "      <td>...</td>\n",
       "      <td>NaN</td>\n",
       "      <td>NaN</td>\n",
       "      <td>NaN</td>\n",
       "      <td>NaN</td>\n",
       "      <td>NaN</td>\n",
       "      <td>NaN</td>\n",
       "      <td>NaN</td>\n",
       "      <td>NaN</td>\n",
       "      <td>NaN</td>\n",
       "      <td>NaN</td>\n",
       "    </tr>\n",
       "  </tbody>\n",
       "</table>\n",
       "<p>5 rows × 154 columns</p>\n",
       "</div>"
      ],
      "text/plain": [
       "   Respondent                                       Professional  \\\n",
       "0           1                                            Student   \n",
       "1           2                                            Student   \n",
       "2           3                             Professional developer   \n",
       "3           4  Professional non-developer who sometimes write...   \n",
       "4           5                             Professional developer   \n",
       "\n",
       "                ProgramHobby         Country      University  \\\n",
       "0                  Yes, both   United States              No   \n",
       "1                  Yes, both  United Kingdom  Yes, full-time   \n",
       "2                  Yes, both  United Kingdom              No   \n",
       "3                  Yes, both   United States              No   \n",
       "4  Yes, I program as a hobby     Switzerland              No   \n",
       "\n",
       "                         EmploymentStatus  \\\n",
       "0  Not employed, and not looking for work   \n",
       "1                      Employed part-time   \n",
       "2                      Employed full-time   \n",
       "3                      Employed full-time   \n",
       "4                      Employed full-time   \n",
       "\n",
       "                                     FormalEducation  \\\n",
       "0                                   Secondary school   \n",
       "1  Some college/university study without earning ...   \n",
       "2                                  Bachelor's degree   \n",
       "3                                    Doctoral degree   \n",
       "4                                    Master's degree   \n",
       "\n",
       "                                  MajorUndergrad  \\\n",
       "0                                            NaN   \n",
       "1       Computer science or software engineering   \n",
       "2       Computer science or software engineering   \n",
       "3  A non-computer-focused engineering discipline   \n",
       "4       Computer science or software engineering   \n",
       "\n",
       "                                          HomeRemote  \\\n",
       "0                                                NaN   \n",
       "1              More than half, but not all, the time   \n",
       "2  Less than half the time, but at least one day ...   \n",
       "3  Less than half the time, but at least one day ...   \n",
       "4                                              Never   \n",
       "\n",
       "                CompanySize  ... StackOverflowMakeMoney Gender  \\\n",
       "0                       NaN  ...      Strongly disagree   Male   \n",
       "1        20 to 99 employees  ...      Strongly disagree   Male   \n",
       "2  10,000 or more employees  ...               Disagree   Male   \n",
       "3  10,000 or more employees  ...               Disagree   Male   \n",
       "4        10 to 19 employees  ...                    NaN    NaN   \n",
       "\n",
       "  HighestEducationParents                          Race         SurveyLong  \\\n",
       "0             High school  White or of European descent  Strongly disagree   \n",
       "1       A master's degree  White or of European descent     Somewhat agree   \n",
       "2   A professional degree  White or of European descent     Somewhat agree   \n",
       "3       A doctoral degree  White or of European descent              Agree   \n",
       "4                     NaN                           NaN                NaN   \n",
       "\n",
       "  QuestionsInteresting QuestionsConfusing InterestedAnswers    Salary  \\\n",
       "0       Strongly agree           Disagree    Strongly agree       NaN   \n",
       "1       Somewhat agree           Disagree    Strongly agree       NaN   \n",
       "2                Agree           Disagree             Agree  113750.0   \n",
       "3                Agree     Somewhat agree    Strongly agree       NaN   \n",
       "4                  NaN                NaN               NaN       NaN   \n",
       "\n",
       "   ExpectedSalary  \n",
       "0             NaN  \n",
       "1         37500.0  \n",
       "2             NaN  \n",
       "3             NaN  \n",
       "4             NaN  \n",
       "\n",
       "[5 rows x 154 columns]"
      ]
     },
     "execution_count": 1,
     "metadata": {},
     "output_type": "execute_result"
    }
   ],
   "source": [
    "#libraries\n",
    "import numpy as np\n",
    "import pandas as pd\n",
    "import seaborn as sns\n",
    "import matplotlib.pyplot as plt\n",
    "%matplotlib inline\n",
    "\n",
    "from sklearn.linear_model import LinearRegression\n",
    "from sklearn.model_selection import train_test_split\n",
    "from sklearn.metrics import r2_score\n",
    "\n",
    "#to avoid errors\n",
    "pd.options.mode.chained_assignment = None\n",
    "\n",
    "#get the data\n",
    "df = pd.read_csv('survey_results_public.csv')\n",
    "df.head()"
   ]
  },
  {
   "cell_type": "code",
   "execution_count": 2,
   "id": "f2c34531",
   "metadata": {},
   "outputs": [
    {
     "name": "stdout",
     "output_type": "stream",
     "text": [
      "No of rows: 19102, no of cols 154\n"
     ]
    }
   ],
   "source": [
    "#number of rows and cols in the dataset\n",
    "print(f\"No of rows: {df.shape[0]}, no of cols {df.shape[1]}\")"
   ]
  },
  {
   "cell_type": "markdown",
   "id": "5c4baafb",
   "metadata": {},
   "source": [
    "## Q1: How is the career satisfaction influenced by company size and job seeking status?"
   ]
  },
  {
   "cell_type": "code",
   "execution_count": 3,
   "id": "92d75f70",
   "metadata": {},
   "outputs": [
    {
     "data": {
      "text/html": [
       "<div>\n",
       "<style scoped>\n",
       "    .dataframe tbody tr th:only-of-type {\n",
       "        vertical-align: middle;\n",
       "    }\n",
       "\n",
       "    .dataframe tbody tr th {\n",
       "        vertical-align: top;\n",
       "    }\n",
       "\n",
       "    .dataframe thead th {\n",
       "        text-align: right;\n",
       "    }\n",
       "</style>\n",
       "<table border=\"1\" class=\"dataframe\">\n",
       "  <thead>\n",
       "    <tr style=\"text-align: right;\">\n",
       "      <th></th>\n",
       "      <th>Respondent</th>\n",
       "      <th>Professional</th>\n",
       "      <th>CompanySize</th>\n",
       "      <th>CareerSatisfaction</th>\n",
       "      <th>JobSeekingStatus</th>\n",
       "    </tr>\n",
       "  </thead>\n",
       "  <tbody>\n",
       "    <tr>\n",
       "      <th>0</th>\n",
       "      <td>1</td>\n",
       "      <td>Student</td>\n",
       "      <td>NaN</td>\n",
       "      <td>NaN</td>\n",
       "      <td>I'm not actively looking, but I am open to new...</td>\n",
       "    </tr>\n",
       "    <tr>\n",
       "      <th>1</th>\n",
       "      <td>2</td>\n",
       "      <td>Student</td>\n",
       "      <td>20 to 99 employees</td>\n",
       "      <td>NaN</td>\n",
       "      <td>NaN</td>\n",
       "    </tr>\n",
       "    <tr>\n",
       "      <th>2</th>\n",
       "      <td>3</td>\n",
       "      <td>Professional developer</td>\n",
       "      <td>10,000 or more employees</td>\n",
       "      <td>8.0</td>\n",
       "      <td>NaN</td>\n",
       "    </tr>\n",
       "    <tr>\n",
       "      <th>3</th>\n",
       "      <td>4</td>\n",
       "      <td>Professional non-developer who sometimes write...</td>\n",
       "      <td>10,000 or more employees</td>\n",
       "      <td>6.0</td>\n",
       "      <td>I am actively looking for a job</td>\n",
       "    </tr>\n",
       "    <tr>\n",
       "      <th>4</th>\n",
       "      <td>5</td>\n",
       "      <td>Professional developer</td>\n",
       "      <td>10 to 19 employees</td>\n",
       "      <td>6.0</td>\n",
       "      <td>NaN</td>\n",
       "    </tr>\n",
       "  </tbody>\n",
       "</table>\n",
       "</div>"
      ],
      "text/plain": [
       "   Respondent                                       Professional  \\\n",
       "0           1                                            Student   \n",
       "1           2                                            Student   \n",
       "2           3                             Professional developer   \n",
       "3           4  Professional non-developer who sometimes write...   \n",
       "4           5                             Professional developer   \n",
       "\n",
       "                CompanySize  CareerSatisfaction  \\\n",
       "0                       NaN                 NaN   \n",
       "1        20 to 99 employees                 NaN   \n",
       "2  10,000 or more employees                 8.0   \n",
       "3  10,000 or more employees                 6.0   \n",
       "4        10 to 19 employees                 6.0   \n",
       "\n",
       "                                    JobSeekingStatus  \n",
       "0  I'm not actively looking, but I am open to new...  \n",
       "1                                                NaN  \n",
       "2                                                NaN  \n",
       "3                    I am actively looking for a job  \n",
       "4                                                NaN  "
      ]
     },
     "execution_count": 3,
     "metadata": {},
     "output_type": "execute_result"
    }
   ],
   "source": [
    "#keep only the cols I need for Q1\n",
    "df1 = df[['Respondent','Professional','CompanySize','CareerSatisfaction','JobSeekingStatus']]\n",
    "df1.head()"
   ]
  },
  {
   "cell_type": "code",
   "execution_count": 4,
   "id": "5f51e690",
   "metadata": {},
   "outputs": [
    {
     "data": {
      "text/plain": [
       "Respondent               0\n",
       "Professional             0\n",
       "CompanySize           4449\n",
       "CareerSatisfaction    3000\n",
       "JobSeekingStatus      6250\n",
       "dtype: int64"
      ]
     },
     "execution_count": 4,
     "metadata": {},
     "output_type": "execute_result"
    }
   ],
   "source": [
    "#null sum\n",
    "np.sum(df1.isnull())"
   ]
  },
  {
   "cell_type": "code",
   "execution_count": 5,
   "id": "52699837",
   "metadata": {},
   "outputs": [
    {
     "data": {
      "text/plain": [
       "Respondent            False\n",
       "Professional          False\n",
       "CompanySize           False\n",
       "CareerSatisfaction    False\n",
       "JobSeekingStatus      False\n",
       "dtype: bool"
      ]
     },
     "execution_count": 5,
     "metadata": {},
     "output_type": "execute_result"
    }
   ],
   "source": [
    "#null sum over 50%?\n",
    "np.sum(df1.isnull())/df1.shape[0]>0.5"
   ]
  },
  {
   "cell_type": "code",
   "execution_count": 6,
   "id": "e4c00a90",
   "metadata": {},
   "outputs": [
    {
     "data": {
      "text/plain": [
       "NaN                         4449\n",
       "20 to 99 employees          3214\n",
       "100 to 499 employees        2858\n",
       "10,000 or more employees    1998\n",
       "10 to 19 employees          1544\n",
       "1,000 to 4,999 employees    1482\n",
       "Fewer than 10 employees     1456\n",
       "500 to 999 employees         946\n",
       "5,000 to 9,999 employees     606\n",
       "I don't know                 311\n",
       "I prefer not to answer       238\n",
       "Name: CompanySize, dtype: int64"
      ]
     },
     "execution_count": 6,
     "metadata": {},
     "output_type": "execute_result"
    }
   ],
   "source": [
    "#value counts for companysize\n",
    "df1[\"CompanySize\"].value_counts(dropna=False)"
   ]
  },
  {
   "cell_type": "code",
   "execution_count": 7,
   "id": "632b8aa1",
   "metadata": {},
   "outputs": [
    {
     "data": {
      "text/plain": [
       "Did not answer the question    4449\n",
       "20 to 99 employees             3214\n",
       "100 to 499 employees           2858\n",
       "10,000 or more employees       1998\n",
       "10 to 19 employees             1544\n",
       "1,000 to 4,999 employees       1482\n",
       "Fewer than 10 employees        1456\n",
       "500 to 999 employees            946\n",
       "5,000 to 9,999 employees        606\n",
       "I don't know                    311\n",
       "I prefer not to answer          238\n",
       "Name: CompanySize, dtype: int64"
      ]
     },
     "execution_count": 7,
     "metadata": {},
     "output_type": "execute_result"
    }
   ],
   "source": [
    "#replace NAN with 'Did not answer the question' \n",
    "#as I don't want to drop these rows as I am interested where do people who didn't answer at all sit\n",
    "df1[\"CompanySize\"]=df1.CompanySize.fillna('Did not answer the question')\n",
    "\n",
    "#new value counts\n",
    "df1[\"CompanySize\"].value_counts()"
   ]
  },
  {
   "cell_type": "code",
   "execution_count": 8,
   "id": "aeb87b90",
   "metadata": {},
   "outputs": [
    {
     "data": {
      "image/png": "[encoded data removed]",
      "text/plain": [
       "<Figure size 432x288 with 1 Axes>"
      ]
     },
     "metadata": {
      "needs_background": "light"
     },
     "output_type": "display_data"
    }
   ],
   "source": [
    "#plot the company size counts\n",
    "cs=df1[\"CompanySize\"].value_counts()\n",
    "(cs/df.shape[0]).plot(kind=\"bar\");\n",
    "plt.title(\"Company Size\");\n",
    "plt.ylabel('Count of responses');"
   ]
  },
  {
   "cell_type": "code",
   "execution_count": 9,
   "id": "0465f661",
   "metadata": {},
   "outputs": [
    {
     "data": {
      "text/plain": [
       "Did not answer the question    23.3%\n",
       "20 to 99 employees             16.8%\n",
       "100 to 499 employees           15.0%\n",
       "10,000 or more employees       10.5%\n",
       "10 to 19 employees              8.1%\n",
       "1,000 to 4,999 employees        7.8%\n",
       "Fewer than 10 employees         7.6%\n",
       "500 to 999 employees            5.0%\n",
       "5,000 to 9,999 employees        3.2%\n",
       "I don't know                    1.6%\n",
       "I prefer not to answer          1.2%\n",
       "Name: CompanySize, dtype: object"
      ]
     },
     "execution_count": 9,
     "metadata": {},
     "output_type": "execute_result"
    }
   ],
   "source": [
    "#breakdown as %\n",
    "df1[\"CompanySize\"].value_counts(normalize=True).mul(100).round(1).astype(str)+'%'"
   ]
  },
  {
   "cell_type": "code",
   "execution_count": 10,
   "id": "c05b406f",
   "metadata": {},
   "outputs": [
    {
     "data": {
      "text/plain": [
       "I'm not actively looking, but I am open to new opportunities    8026\n",
       "NaN                                                             6250\n",
       "I am not interested in new job opportunities                    3294\n",
       "I am actively looking for a job                                 1532\n",
       "Name: JobSeekingStatus, dtype: int64"
      ]
     },
     "execution_count": 10,
     "metadata": {},
     "output_type": "execute_result"
    }
   ],
   "source": [
    "#value counts for JobSeekingStatus\n",
    "df1[\"JobSeekingStatus\"].value_counts(dropna=False)"
   ]
  },
  {
   "cell_type": "code",
   "execution_count": 11,
   "id": "b0caaf79",
   "metadata": {},
   "outputs": [
    {
     "data": {
      "text/plain": [
       "I'm not actively looking, but I am open to new opportunities    8026\n",
       "Did not answer the question                                     6250\n",
       "I am not interested in new job opportunities                    3294\n",
       "I am actively looking for a job                                 1532\n",
       "Name: JobSeekingStatus, dtype: int64"
      ]
     },
     "execution_count": 11,
     "metadata": {},
     "output_type": "execute_result"
    }
   ],
   "source": [
    "#replace NAN with 'Did not answer the question', \n",
    "#as I don't want to drop these rows as I am interested where do people who didn't answer at all sit\n",
    "df1[\"JobSeekingStatus\"]=df1.JobSeekingStatus.fillna('Did not answer the question')\n",
    "\n",
    "#value counts for JobSeekingStatus\n",
    "df1[\"JobSeekingStatus\"].value_counts()"
   ]
  },
  {
   "cell_type": "code",
   "execution_count": 12,
   "id": "d301dc26",
   "metadata": {},
   "outputs": [
    {
     "data": {
      "text/plain": [
       "I'm not actively looking, but I am open to new opportunities    42.0%\n",
       "Did not answer the question                                     32.7%\n",
       "I am not interested in new job opportunities                    17.2%\n",
       "I am actively looking for a job                                  8.0%\n",
       "Name: JobSeekingStatus, dtype: object"
      ]
     },
     "execution_count": 12,
     "metadata": {},
     "output_type": "execute_result"
    }
   ],
   "source": [
    "#breakdown as %\n",
    "df1[\"JobSeekingStatus\"].value_counts(normalize=True).mul(100).round(1).astype(str)+'%'"
   ]
  },
  {
   "cell_type": "code",
   "execution_count": 13,
   "id": "edbf42ef",
   "metadata": {},
   "outputs": [
    {
     "data": {
      "image/png": "[encoded data removed]",
      "text/plain": [
       "<Figure size 432x288 with 1 Axes>"
      ]
     },
     "metadata": {
      "needs_background": "light"
     },
     "output_type": "display_data"
    }
   ],
   "source": [
    "# plot graph for JobSeekingStatus\n",
    "jss=df1[\"JobSeekingStatus\"].value_counts()\n",
    "(jss/df.shape[0]).plot(kind=\"bar\");\n",
    "plt.title(\"Job Seeking Status\");\n",
    "plt.ylabel('Count of responses');"
   ]
  },
  {
   "cell_type": "code",
   "execution_count": 14,
   "id": "3383c71a",
   "metadata": {},
   "outputs": [
    {
     "data": {
      "text/plain": [
       "8.0     4247\n",
       "7.0     3624\n",
       "NaN     3000\n",
       "9.0     2127\n",
       "10.0    2053\n",
       "6.0     1684\n",
       "5.0     1132\n",
       "4.0      481\n",
       "3.0      376\n",
       "2.0      177\n",
       "0.0      136\n",
       "1.0       65\n",
       "Name: CareerSatisfaction, dtype: int64"
      ]
     },
     "execution_count": 14,
     "metadata": {},
     "output_type": "execute_result"
    }
   ],
   "source": [
    "#value counts for CareerSatisfaction\n",
    "df1[\"CareerSatisfaction\"].value_counts(dropna=False)"
   ]
  },
  {
   "cell_type": "code",
   "execution_count": 15,
   "id": "5788aa1d",
   "metadata": {},
   "outputs": [
    {
     "data": {
      "text/html": [
       "<div>\n",
       "<style scoped>\n",
       "    .dataframe tbody tr th:only-of-type {\n",
       "        vertical-align: middle;\n",
       "    }\n",
       "\n",
       "    .dataframe tbody tr th {\n",
       "        vertical-align: top;\n",
       "    }\n",
       "\n",
       "    .dataframe thead th {\n",
       "        text-align: right;\n",
       "    }\n",
       "</style>\n",
       "<table border=\"1\" class=\"dataframe\">\n",
       "  <thead>\n",
       "    <tr style=\"text-align: right;\">\n",
       "      <th></th>\n",
       "      <th>Respondent</th>\n",
       "      <th>Professional</th>\n",
       "      <th>CompanySize</th>\n",
       "      <th>CareerSatisfaction</th>\n",
       "      <th>JobSeekingStatus</th>\n",
       "    </tr>\n",
       "  </thead>\n",
       "  <tbody>\n",
       "    <tr>\n",
       "      <th>0</th>\n",
       "      <td>1</td>\n",
       "      <td>Student</td>\n",
       "      <td>Did not answer the question</td>\n",
       "      <td>8.0</td>\n",
       "      <td>I'm not actively looking, but I am open to new...</td>\n",
       "    </tr>\n",
       "    <tr>\n",
       "      <th>1</th>\n",
       "      <td>2</td>\n",
       "      <td>Student</td>\n",
       "      <td>20 to 99 employees</td>\n",
       "      <td>8.0</td>\n",
       "      <td>Did not answer the question</td>\n",
       "    </tr>\n",
       "    <tr>\n",
       "      <th>2</th>\n",
       "      <td>3</td>\n",
       "      <td>Professional developer</td>\n",
       "      <td>10,000 or more employees</td>\n",
       "      <td>8.0</td>\n",
       "      <td>Did not answer the question</td>\n",
       "    </tr>\n",
       "    <tr>\n",
       "      <th>3</th>\n",
       "      <td>4</td>\n",
       "      <td>Professional non-developer who sometimes write...</td>\n",
       "      <td>10,000 or more employees</td>\n",
       "      <td>6.0</td>\n",
       "      <td>I am actively looking for a job</td>\n",
       "    </tr>\n",
       "    <tr>\n",
       "      <th>4</th>\n",
       "      <td>5</td>\n",
       "      <td>Professional developer</td>\n",
       "      <td>10 to 19 employees</td>\n",
       "      <td>6.0</td>\n",
       "      <td>Did not answer the question</td>\n",
       "    </tr>\n",
       "    <tr>\n",
       "      <th>...</th>\n",
       "      <td>...</td>\n",
       "      <td>...</td>\n",
       "      <td>...</td>\n",
       "      <td>...</td>\n",
       "      <td>...</td>\n",
       "    </tr>\n",
       "    <tr>\n",
       "      <th>19097</th>\n",
       "      <td>19098</td>\n",
       "      <td>Professional developer</td>\n",
       "      <td>10 to 19 employees</td>\n",
       "      <td>9.0</td>\n",
       "      <td>I'm not actively looking, but I am open to new...</td>\n",
       "    </tr>\n",
       "    <tr>\n",
       "      <th>19098</th>\n",
       "      <td>19099</td>\n",
       "      <td>Student</td>\n",
       "      <td>Did not answer the question</td>\n",
       "      <td>8.0</td>\n",
       "      <td>Did not answer the question</td>\n",
       "    </tr>\n",
       "    <tr>\n",
       "      <th>19099</th>\n",
       "      <td>19100</td>\n",
       "      <td>Professional non-developer who sometimes write...</td>\n",
       "      <td>Did not answer the question</td>\n",
       "      <td>4.0</td>\n",
       "      <td>Did not answer the question</td>\n",
       "    </tr>\n",
       "    <tr>\n",
       "      <th>19100</th>\n",
       "      <td>19101</td>\n",
       "      <td>Professional developer</td>\n",
       "      <td>100 to 499 employees</td>\n",
       "      <td>8.0</td>\n",
       "      <td>Did not answer the question</td>\n",
       "    </tr>\n",
       "    <tr>\n",
       "      <th>19101</th>\n",
       "      <td>19102</td>\n",
       "      <td>Professional developer</td>\n",
       "      <td>100 to 499 employees</td>\n",
       "      <td>8.0</td>\n",
       "      <td>Did not answer the question</td>\n",
       "    </tr>\n",
       "  </tbody>\n",
       "</table>\n",
       "<p>19102 rows × 5 columns</p>\n",
       "</div>"
      ],
      "text/plain": [
       "       Respondent                                       Professional  \\\n",
       "0               1                                            Student   \n",
       "1               2                                            Student   \n",
       "2               3                             Professional developer   \n",
       "3               4  Professional non-developer who sometimes write...   \n",
       "4               5                             Professional developer   \n",
       "...           ...                                                ...   \n",
       "19097       19098                             Professional developer   \n",
       "19098       19099                                            Student   \n",
       "19099       19100  Professional non-developer who sometimes write...   \n",
       "19100       19101                             Professional developer   \n",
       "19101       19102                             Professional developer   \n",
       "\n",
       "                       CompanySize  CareerSatisfaction  \\\n",
       "0      Did not answer the question                 8.0   \n",
       "1               20 to 99 employees                 8.0   \n",
       "2         10,000 or more employees                 8.0   \n",
       "3         10,000 or more employees                 6.0   \n",
       "4               10 to 19 employees                 6.0   \n",
       "...                            ...                 ...   \n",
       "19097           10 to 19 employees                 9.0   \n",
       "19098  Did not answer the question                 8.0   \n",
       "19099  Did not answer the question                 4.0   \n",
       "19100         100 to 499 employees                 8.0   \n",
       "19101         100 to 499 employees                 8.0   \n",
       "\n",
       "                                        JobSeekingStatus  \n",
       "0      I'm not actively looking, but I am open to new...  \n",
       "1                            Did not answer the question  \n",
       "2                            Did not answer the question  \n",
       "3                        I am actively looking for a job  \n",
       "4                            Did not answer the question  \n",
       "...                                                  ...  \n",
       "19097  I'm not actively looking, but I am open to new...  \n",
       "19098                        Did not answer the question  \n",
       "19099                        Did not answer the question  \n",
       "19100                        Did not answer the question  \n",
       "19101                        Did not answer the question  \n",
       "\n",
       "[19102 rows x 5 columns]"
      ]
     },
     "execution_count": 15,
     "metadata": {},
     "output_type": "execute_result"
    }
   ],
   "source": [
    "#fill CareerSatisfaction with mode  (mode makes sense to be used here, rather than mean for example)\n",
    "df1['CareerSatisfaction'].fillna(df1['CareerSatisfaction'].mode()[0], inplace=True)\n",
    "df1"
   ]
  },
  {
   "cell_type": "code",
   "execution_count": 16,
   "id": "86dd67fa",
   "metadata": {},
   "outputs": [
    {
     "data": {
      "text/plain": [
       "8.0     7247\n",
       "7.0     3624\n",
       "9.0     2127\n",
       "10.0    2053\n",
       "6.0     1684\n",
       "5.0     1132\n",
       "4.0      481\n",
       "3.0      376\n",
       "2.0      177\n",
       "0.0      136\n",
       "1.0       65\n",
       "Name: CareerSatisfaction, dtype: int64"
      ]
     },
     "execution_count": 16,
     "metadata": {},
     "output_type": "execute_result"
    }
   ],
   "source": [
    "#value counts for CareerSatisfaction\n",
    "df1[\"CareerSatisfaction\"].value_counts(dropna=False)"
   ]
  },
  {
   "cell_type": "code",
   "execution_count": 17,
   "id": "0751b66f",
   "metadata": {},
   "outputs": [
    {
     "data": {
      "text/plain": [
       "CompanySize\n",
       "Fewer than 10 employees        7.339973\n",
       "10,000 or more employees       7.412913\n",
       "20 to 99 employees             7.418793\n",
       "5,000 to 9,999 employees       7.422442\n",
       "10 to 19 employees             7.432642\n",
       "1,000 to 4,999 employees       7.437922\n",
       "Did not answer the question    7.453585\n",
       "500 to 999 employees           7.497886\n",
       "100 to 499 employees           7.517495\n",
       "I don't know                   7.559486\n",
       "I prefer not to answer         7.659664\n",
       "Name: CareerSatisfaction, dtype: float64"
      ]
     },
     "execution_count": 17,
     "metadata": {},
     "output_type": "execute_result"
    }
   ],
   "source": [
    "#group and mean (mean works best here)\n",
    "df1.groupby(df1[\"CompanySize\"]).mean()['CareerSatisfaction'].sort_values()"
   ]
  },
  {
   "cell_type": "code",
   "execution_count": 18,
   "id": "02e57d64",
   "metadata": {},
   "outputs": [
    {
     "data": {
      "text/plain": [
       "JobSeekingStatus\n",
       "I am actively looking for a job                                 6.656658\n",
       "I'm not actively looking, but I am open to new opportunities    7.353476\n",
       "Did not answer the question                                     7.416480\n",
       "I am not interested in new job opportunities                    8.100182\n",
       "Name: CareerSatisfaction, dtype: float64"
      ]
     },
     "execution_count": 18,
     "metadata": {},
     "output_type": "execute_result"
    }
   ],
   "source": [
    "#group and mean (mean works best here)\n",
    "df1.groupby(df1[\"JobSeekingStatus\"]).mean()['CareerSatisfaction'].sort_values()"
   ]
  },
  {
   "cell_type": "markdown",
   "id": "389c143b",
   "metadata": {},
   "source": [
    "### Outcome for Q1\n",
    "\n",
    "- It seems that the higher career satisfaction is associated with the people who preferred not to answer on the company size. Interestingly, a company size of few employees (less than 10) and a company size with more than 10K are providing the least career satisfaction, whereas, 100-999 company size employees provide a higher career satisfaction. \n",
    "- As expected, the data shows that the people who are actively looking for a new role, are having the least career satisfaction, and those who aren't interested at all have the highest career satisfaction.\n"
   ]
  },
  {
   "cell_type": "markdown",
   "id": "70af2dd4",
   "metadata": {},
   "source": [
    "## Q2: What are the professions and salary feelings of those who work in a Publicly-traded corporation?"
   ]
  },
  {
   "cell_type": "code",
   "execution_count": 19,
   "id": "b0641d71",
   "metadata": {},
   "outputs": [
    {
     "data": {
      "text/html": [
       "<div>\n",
       "<style scoped>\n",
       "    .dataframe tbody tr th:only-of-type {\n",
       "        vertical-align: middle;\n",
       "    }\n",
       "\n",
       "    .dataframe tbody tr th {\n",
       "        vertical-align: top;\n",
       "    }\n",
       "\n",
       "    .dataframe thead th {\n",
       "        text-align: right;\n",
       "    }\n",
       "</style>\n",
       "<table border=\"1\" class=\"dataframe\">\n",
       "  <thead>\n",
       "    <tr style=\"text-align: right;\">\n",
       "      <th></th>\n",
       "      <th>Respondent</th>\n",
       "      <th>CompanyType</th>\n",
       "      <th>Professional</th>\n",
       "      <th>Overpaid</th>\n",
       "    </tr>\n",
       "  </thead>\n",
       "  <tbody>\n",
       "    <tr>\n",
       "      <th>0</th>\n",
       "      <td>1</td>\n",
       "      <td>NaN</td>\n",
       "      <td>Student</td>\n",
       "      <td>NaN</td>\n",
       "    </tr>\n",
       "    <tr>\n",
       "      <th>1</th>\n",
       "      <td>2</td>\n",
       "      <td>Privately-held limited company, not in startup...</td>\n",
       "      <td>Student</td>\n",
       "      <td>NaN</td>\n",
       "    </tr>\n",
       "    <tr>\n",
       "      <th>2</th>\n",
       "      <td>3</td>\n",
       "      <td>Publicly-traded corporation</td>\n",
       "      <td>Professional developer</td>\n",
       "      <td>Neither underpaid nor overpaid</td>\n",
       "    </tr>\n",
       "    <tr>\n",
       "      <th>3</th>\n",
       "      <td>4</td>\n",
       "      <td>Non-profit/non-governmental organization or pr...</td>\n",
       "      <td>Professional non-developer who sometimes write...</td>\n",
       "      <td>NaN</td>\n",
       "    </tr>\n",
       "    <tr>\n",
       "      <th>4</th>\n",
       "      <td>5</td>\n",
       "      <td>Privately-held limited company, not in startup...</td>\n",
       "      <td>Professional developer</td>\n",
       "      <td>NaN</td>\n",
       "    </tr>\n",
       "  </tbody>\n",
       "</table>\n",
       "</div>"
      ],
      "text/plain": [
       "   Respondent                                        CompanyType  \\\n",
       "0           1                                                NaN   \n",
       "1           2  Privately-held limited company, not in startup...   \n",
       "2           3                        Publicly-traded corporation   \n",
       "3           4  Non-profit/non-governmental organization or pr...   \n",
       "4           5  Privately-held limited company, not in startup...   \n",
       "\n",
       "                                        Professional  \\\n",
       "0                                            Student   \n",
       "1                                            Student   \n",
       "2                             Professional developer   \n",
       "3  Professional non-developer who sometimes write...   \n",
       "4                             Professional developer   \n",
       "\n",
       "                         Overpaid  \n",
       "0                             NaN  \n",
       "1                             NaN  \n",
       "2  Neither underpaid nor overpaid  \n",
       "3                             NaN  \n",
       "4                             NaN  "
      ]
     },
     "execution_count": 19,
     "metadata": {},
     "output_type": "execute_result"
    }
   ],
   "source": [
    "#get the columns I need in df2\n",
    "df2 = df[['Respondent','CompanyType','Professional','Overpaid']]\n",
    "df2.head()"
   ]
  },
  {
   "cell_type": "code",
   "execution_count": 20,
   "id": "b6e9c39a",
   "metadata": {},
   "outputs": [
    {
     "data": {
      "text/plain": [
       "Respondent          0\n",
       "CompanyType      4493\n",
       "Professional        0\n",
       "Overpaid        13918\n",
       "dtype: int64"
      ]
     },
     "execution_count": 20,
     "metadata": {},
     "output_type": "execute_result"
    }
   ],
   "source": [
    "#null sum\n",
    "np.sum(df2.isnull())"
   ]
  },
  {
   "cell_type": "code",
   "execution_count": 21,
   "id": "6a6e1b8a",
   "metadata": {},
   "outputs": [
    {
     "data": {
      "text/plain": [
       "Respondent      False\n",
       "CompanyType     False\n",
       "Professional    False\n",
       "Overpaid         True\n",
       "dtype: bool"
      ]
     },
     "execution_count": 21,
     "metadata": {},
     "output_type": "execute_result"
    }
   ],
   "source": [
    "#null sum over 50%?\n",
    "np.sum(df2.isnull())/df2.shape[0]>0.5"
   ]
  },
  {
   "cell_type": "code",
   "execution_count": 22,
   "id": "377196d8",
   "metadata": {},
   "outputs": [
    {
     "data": {
      "text/plain": [
       "Somewhat underpaid                2346\n",
       "Neither underpaid nor overpaid    1903\n",
       "Greatly underpaid                  559\n",
       "Somewhat overpaid                  348\n",
       "Greatly overpaid                    28\n",
       "Name: Overpaid, dtype: int64"
      ]
     },
     "execution_count": 22,
     "metadata": {},
     "output_type": "execute_result"
    }
   ],
   "source": [
    "#decided to drop the nan on Overpaid as it's over 50%\n",
    "df2 = df2.dropna(subset=['Overpaid'], how='any')\n",
    "\n",
    "#value counts for companysize\n",
    "df2[\"Overpaid\"].value_counts()"
   ]
  },
  {
   "cell_type": "code",
   "execution_count": 23,
   "id": "860930f7",
   "metadata": {},
   "outputs": [
    {
     "data": {
      "text/plain": [
       "Respondent       0\n",
       "CompanyType     16\n",
       "Professional     0\n",
       "Overpaid         0\n",
       "dtype: int64"
      ]
     },
     "execution_count": 23,
     "metadata": {},
     "output_type": "execute_result"
    }
   ],
   "source": [
    "#null sum\n",
    "np.sum(df2.isnull())"
   ]
  },
  {
   "cell_type": "code",
   "execution_count": 24,
   "id": "82e36a12",
   "metadata": {},
   "outputs": [
    {
     "name": "stdout",
     "output_type": "stream",
     "text": [
      "No of rows: 5184, no of cols 4\n"
     ]
    }
   ],
   "source": [
    "#number of rows and cols in the dataset\n",
    "print(f\"No of rows: {df2.shape[0]}, no of cols {df2.shape[1]}\")"
   ]
  },
  {
   "cell_type": "code",
   "execution_count": 25,
   "id": "e3c8456d",
   "metadata": {},
   "outputs": [
    {
     "data": {
      "text/html": [
       "<div>\n",
       "<style scoped>\n",
       "    .dataframe tbody tr th:only-of-type {\n",
       "        vertical-align: middle;\n",
       "    }\n",
       "\n",
       "    .dataframe tbody tr th {\n",
       "        vertical-align: top;\n",
       "    }\n",
       "\n",
       "    .dataframe thead th {\n",
       "        text-align: right;\n",
       "    }\n",
       "</style>\n",
       "<table border=\"1\" class=\"dataframe\">\n",
       "  <thead>\n",
       "    <tr style=\"text-align: right;\">\n",
       "      <th></th>\n",
       "      <th>Respondent</th>\n",
       "      <th>CompanyType</th>\n",
       "      <th>Professional</th>\n",
       "      <th>Overpaid</th>\n",
       "    </tr>\n",
       "  </thead>\n",
       "  <tbody>\n",
       "    <tr>\n",
       "      <th>2</th>\n",
       "      <td>3</td>\n",
       "      <td>Publicly-traded corporation</td>\n",
       "      <td>Professional developer</td>\n",
       "      <td>Neither underpaid nor overpaid</td>\n",
       "    </tr>\n",
       "    <tr>\n",
       "      <th>8</th>\n",
       "      <td>9</td>\n",
       "      <td>Privately-held limited company, not in startup...</td>\n",
       "      <td>Professional developer</td>\n",
       "      <td>Neither underpaid nor overpaid</td>\n",
       "    </tr>\n",
       "    <tr>\n",
       "      <th>14</th>\n",
       "      <td>15</td>\n",
       "      <td>Publicly-traded corporation</td>\n",
       "      <td>Professional developer</td>\n",
       "      <td>Somewhat underpaid</td>\n",
       "    </tr>\n",
       "    <tr>\n",
       "      <th>17</th>\n",
       "      <td>18</td>\n",
       "      <td>Publicly-traded corporation</td>\n",
       "      <td>Professional developer</td>\n",
       "      <td>Neither underpaid nor overpaid</td>\n",
       "    </tr>\n",
       "    <tr>\n",
       "      <th>18</th>\n",
       "      <td>19</td>\n",
       "      <td>Publicly-traded corporation</td>\n",
       "      <td>Professional developer</td>\n",
       "      <td>Somewhat overpaid</td>\n",
       "    </tr>\n",
       "  </tbody>\n",
       "</table>\n",
       "</div>"
      ],
      "text/plain": [
       "    Respondent                                        CompanyType  \\\n",
       "2            3                        Publicly-traded corporation   \n",
       "8            9  Privately-held limited company, not in startup...   \n",
       "14          15                        Publicly-traded corporation   \n",
       "17          18                        Publicly-traded corporation   \n",
       "18          19                        Publicly-traded corporation   \n",
       "\n",
       "              Professional                        Overpaid  \n",
       "2   Professional developer  Neither underpaid nor overpaid  \n",
       "8   Professional developer  Neither underpaid nor overpaid  \n",
       "14  Professional developer              Somewhat underpaid  \n",
       "17  Professional developer  Neither underpaid nor overpaid  \n",
       "18  Professional developer               Somewhat overpaid  "
      ]
     },
     "execution_count": 25,
     "metadata": {},
     "output_type": "execute_result"
    }
   ],
   "source": [
    "#as it's only 16 rows nan in CompanyType, I've decided to drop them too\n",
    "#decided to drop the nan on Overpaid as it's over 50%\n",
    "df2 = df2.dropna(subset=['CompanyType'], how='any')\n",
    "\n",
    "df2.head()"
   ]
  },
  {
   "cell_type": "code",
   "execution_count": 26,
   "id": "e2cef2cd",
   "metadata": {},
   "outputs": [
    {
     "data": {
      "text/html": [
       "<div>\n",
       "<style scoped>\n",
       "    .dataframe tbody tr th:only-of-type {\n",
       "        vertical-align: middle;\n",
       "    }\n",
       "\n",
       "    .dataframe tbody tr th {\n",
       "        vertical-align: top;\n",
       "    }\n",
       "\n",
       "    .dataframe thead th {\n",
       "        text-align: right;\n",
       "    }\n",
       "</style>\n",
       "<table border=\"1\" class=\"dataframe\">\n",
       "  <thead>\n",
       "    <tr style=\"text-align: right;\">\n",
       "      <th></th>\n",
       "      <th>Respondent</th>\n",
       "      <th>CompanyType</th>\n",
       "      <th>Professional</th>\n",
       "      <th>Overpaid</th>\n",
       "    </tr>\n",
       "  </thead>\n",
       "  <tbody>\n",
       "    <tr>\n",
       "      <th>2</th>\n",
       "      <td>3</td>\n",
       "      <td>Publicly-traded corporation</td>\n",
       "      <td>Professional developer</td>\n",
       "      <td>Neither underpaid nor overpaid</td>\n",
       "    </tr>\n",
       "    <tr>\n",
       "      <th>14</th>\n",
       "      <td>15</td>\n",
       "      <td>Publicly-traded corporation</td>\n",
       "      <td>Professional developer</td>\n",
       "      <td>Somewhat underpaid</td>\n",
       "    </tr>\n",
       "    <tr>\n",
       "      <th>17</th>\n",
       "      <td>18</td>\n",
       "      <td>Publicly-traded corporation</td>\n",
       "      <td>Professional developer</td>\n",
       "      <td>Neither underpaid nor overpaid</td>\n",
       "    </tr>\n",
       "    <tr>\n",
       "      <th>18</th>\n",
       "      <td>19</td>\n",
       "      <td>Publicly-traded corporation</td>\n",
       "      <td>Professional developer</td>\n",
       "      <td>Somewhat overpaid</td>\n",
       "    </tr>\n",
       "    <tr>\n",
       "      <th>25</th>\n",
       "      <td>26</td>\n",
       "      <td>Publicly-traded corporation</td>\n",
       "      <td>Professional developer</td>\n",
       "      <td>Neither underpaid nor overpaid</td>\n",
       "    </tr>\n",
       "  </tbody>\n",
       "</table>\n",
       "</div>"
      ],
      "text/plain": [
       "    Respondent                  CompanyType            Professional  \\\n",
       "2            3  Publicly-traded corporation  Professional developer   \n",
       "14          15  Publicly-traded corporation  Professional developer   \n",
       "17          18  Publicly-traded corporation  Professional developer   \n",
       "18          19  Publicly-traded corporation  Professional developer   \n",
       "25          26  Publicly-traded corporation  Professional developer   \n",
       "\n",
       "                          Overpaid  \n",
       "2   Neither underpaid nor overpaid  \n",
       "14              Somewhat underpaid  \n",
       "17  Neither underpaid nor overpaid  \n",
       "18               Somewhat overpaid  \n",
       "25  Neither underpaid nor overpaid  "
      ]
     },
     "execution_count": 26,
     "metadata": {},
     "output_type": "execute_result"
    }
   ],
   "source": [
    "df2_ptc=df2[df2.CompanyType == \"Publicly-traded corporation\"]\n",
    "\n",
    "df2_ptc.head()"
   ]
  },
  {
   "cell_type": "code",
   "execution_count": 27,
   "id": "c71cee64",
   "metadata": {},
   "outputs": [
    {
     "name": "stdout",
     "output_type": "stream",
     "text": [
      "No of rows: 909, no of cols 4\n"
     ]
    }
   ],
   "source": [
    "#number of rows and cols in the dataset\n",
    "print(f\"No of rows: {df2_ptc.shape[0]}, no of cols {df2_ptc.shape[1]}\")"
   ]
  },
  {
   "cell_type": "code",
   "execution_count": 28,
   "id": "5a30f017",
   "metadata": {},
   "outputs": [
    {
     "data": {
      "text/plain": [
       "Professional developer    909\n",
       "Name: Professional, dtype: int64"
      ]
     },
     "execution_count": 28,
     "metadata": {},
     "output_type": "execute_result"
    }
   ],
   "source": [
    "#value counts for Professional\n",
    "df2_ptc[\"Professional\"].value_counts()"
   ]
  },
  {
   "cell_type": "code",
   "execution_count": 29,
   "id": "b72287d2",
   "metadata": {},
   "outputs": [
    {
     "data": {
      "text/plain": [
       "Somewhat underpaid                398\n",
       "Neither underpaid nor overpaid    373\n",
       "Somewhat overpaid                  74\n",
       "Greatly underpaid                  58\n",
       "Greatly overpaid                    6\n",
       "Name: Overpaid, dtype: int64"
      ]
     },
     "execution_count": 29,
     "metadata": {},
     "output_type": "execute_result"
    }
   ],
   "source": [
    "#value counts for Overpaid\n",
    "df2_ptc[\"Overpaid\"].value_counts()"
   ]
  },
  {
   "cell_type": "code",
   "execution_count": 30,
   "id": "a4e7a9b5",
   "metadata": {},
   "outputs": [
    {
     "data": {
      "image/png": "[encoded data removed]",
      "text/plain": [
       "<Figure size 432x288 with 1 Axes>"
      ]
     },
     "metadata": {
      "needs_background": "light"
     },
     "output_type": "display_data"
    }
   ],
   "source": [
    "# plot graph \n",
    "df2_ptc2=df2_ptc[\"Overpaid\"].value_counts()\n",
    "(df2_ptc2/df.shape[0]).plot(kind=\"bar\");\n",
    "plt.title(\"Salary feeling\");\n",
    "plt.ylabel('Count of responses');"
   ]
  },
  {
   "cell_type": "code",
   "execution_count": 31,
   "id": "be8a12f1",
   "metadata": {},
   "outputs": [
    {
     "data": {
      "text/plain": [
       "Somewhat underpaid                43.8%\n",
       "Neither underpaid nor overpaid    41.0%\n",
       "Somewhat overpaid                  8.1%\n",
       "Greatly underpaid                  6.4%\n",
       "Greatly overpaid                   0.7%\n",
       "Name: Overpaid, dtype: object"
      ]
     },
     "execution_count": 31,
     "metadata": {},
     "output_type": "execute_result"
    }
   ],
   "source": [
    "#breakdown as %\n",
    "round(df2_ptc2/len(df2_ptc)*100,1).astype(str) + '%'"
   ]
  },
  {
   "cell_type": "markdown",
   "id": "d4bc93f1",
   "metadata": {},
   "source": [
    "### Outcome for Q2\n",
    "\n",
    "- Once dropping all the NAN data and filtering solely on \"Publicly-traded corporation\" the results are interesting. Firstly, we only have 'Professional developers' and secondly, 44% suggested that they feel somehow underpaid, whereas 41% suggest they are just right. A very small percentage (less than 1%) feel like they are greatly overpaid. "
   ]
  },
  {
   "cell_type": "markdown",
   "id": "b07a2f33",
   "metadata": {},
   "source": [
    "## Q3: How well can we predict an individual's career satisfaction based on current salary, hours worked per week and job satisfaction?"
   ]
  },
  {
   "cell_type": "code",
   "execution_count": 32,
   "id": "981cafdd",
   "metadata": {
    "scrolled": true
   },
   "outputs": [
    {
     "data": {
      "text/html": [
       "<div>\n",
       "<style scoped>\n",
       "    .dataframe tbody tr th:only-of-type {\n",
       "        vertical-align: middle;\n",
       "    }\n",
       "\n",
       "    .dataframe tbody tr th {\n",
       "        vertical-align: top;\n",
       "    }\n",
       "\n",
       "    .dataframe thead th {\n",
       "        text-align: right;\n",
       "    }\n",
       "</style>\n",
       "<table border=\"1\" class=\"dataframe\">\n",
       "  <thead>\n",
       "    <tr style=\"text-align: right;\">\n",
       "      <th></th>\n",
       "      <th>Respondent</th>\n",
       "      <th>Salary</th>\n",
       "      <th>CareerSatisfaction</th>\n",
       "      <th>HoursPerWeek</th>\n",
       "      <th>JobSatisfaction</th>\n",
       "    </tr>\n",
       "  </thead>\n",
       "  <tbody>\n",
       "    <tr>\n",
       "      <th>0</th>\n",
       "      <td>1</td>\n",
       "      <td>NaN</td>\n",
       "      <td>NaN</td>\n",
       "      <td>0.0</td>\n",
       "      <td>NaN</td>\n",
       "    </tr>\n",
       "    <tr>\n",
       "      <th>1</th>\n",
       "      <td>2</td>\n",
       "      <td>NaN</td>\n",
       "      <td>NaN</td>\n",
       "      <td>NaN</td>\n",
       "      <td>NaN</td>\n",
       "    </tr>\n",
       "    <tr>\n",
       "      <th>2</th>\n",
       "      <td>3</td>\n",
       "      <td>113750.0</td>\n",
       "      <td>8.0</td>\n",
       "      <td>NaN</td>\n",
       "      <td>9.0</td>\n",
       "    </tr>\n",
       "    <tr>\n",
       "      <th>3</th>\n",
       "      <td>4</td>\n",
       "      <td>NaN</td>\n",
       "      <td>6.0</td>\n",
       "      <td>5.0</td>\n",
       "      <td>3.0</td>\n",
       "    </tr>\n",
       "    <tr>\n",
       "      <th>4</th>\n",
       "      <td>5</td>\n",
       "      <td>NaN</td>\n",
       "      <td>6.0</td>\n",
       "      <td>NaN</td>\n",
       "      <td>8.0</td>\n",
       "    </tr>\n",
       "  </tbody>\n",
       "</table>\n",
       "</div>"
      ],
      "text/plain": [
       "   Respondent    Salary  CareerSatisfaction  HoursPerWeek  JobSatisfaction\n",
       "0           1       NaN                 NaN           0.0              NaN\n",
       "1           2       NaN                 NaN           NaN              NaN\n",
       "2           3  113750.0                 8.0           NaN              9.0\n",
       "3           4       NaN                 6.0           5.0              3.0\n",
       "4           5       NaN                 6.0           NaN              8.0"
      ]
     },
     "execution_count": 32,
     "metadata": {},
     "output_type": "execute_result"
    }
   ],
   "source": [
    "#get the columns I need in df3\n",
    "df3 = df[['Respondent','Salary','CareerSatisfaction','HoursPerWeek', 'JobSatisfaction']]\n",
    "df3.head()"
   ]
  },
  {
   "cell_type": "code",
   "execution_count": 33,
   "id": "cce68715",
   "metadata": {},
   "outputs": [
    {
     "data": {
      "image/png": "[encoded data removed]",
      "text/plain": [
       "<Figure size 576x360 with 2 Axes>"
      ]
     },
     "metadata": {
      "needs_background": "light"
     },
     "output_type": "display_data"
    }
   ],
   "source": [
    "#heatmap\n",
    "corr_matrix = df3.corr()\n",
    "plt.figure(figsize = (8,5))\n",
    "sns.heatmap(corr_matrix, cmap=\"Spectral\", annot=True, fmt='.2f')\n",
    "plt.show()"
   ]
  },
  {
   "cell_type": "code",
   "execution_count": 34,
   "id": "0cdb29eb",
   "metadata": {},
   "outputs": [
    {
     "data": {
      "text/plain": [
       "Respondent            False\n",
       "Salary                 True\n",
       "CareerSatisfaction    False\n",
       "HoursPerWeek           True\n",
       "JobSatisfaction       False\n",
       "dtype: bool"
      ]
     },
     "execution_count": 34,
     "metadata": {},
     "output_type": "execute_result"
    }
   ],
   "source": [
    "#null sum over 50%?\n",
    "np.sum(df3.isnull())/df3.shape[0]>0.5"
   ]
  },
  {
   "cell_type": "code",
   "execution_count": 35,
   "id": "df1c2f80",
   "metadata": {},
   "outputs": [
    {
     "data": {
      "text/plain": [
       "Respondent             0.0%\n",
       "Salary                74.0%\n",
       "CareerSatisfaction    16.0%\n",
       "HoursPerWeek          60.0%\n",
       "JobSatisfaction       20.0%\n",
       "dtype: object"
      ]
     },
     "execution_count": 35,
     "metadata": {},
     "output_type": "execute_result"
    }
   ],
   "source": [
    "#percentage of missing values per column, rounded up \n",
    "round(df3.isnull().sum()/len(df3)*100,0).astype(str) + '%'"
   ]
  },
  {
   "cell_type": "code",
   "execution_count": 36,
   "id": "2fdb8056",
   "metadata": {
    "scrolled": true
   },
   "outputs": [
    {
     "data": {
      "text/html": [
       "<div>\n",
       "<style scoped>\n",
       "    .dataframe tbody tr th:only-of-type {\n",
       "        vertical-align: middle;\n",
       "    }\n",
       "\n",
       "    .dataframe tbody tr th {\n",
       "        vertical-align: top;\n",
       "    }\n",
       "\n",
       "    .dataframe thead th {\n",
       "        text-align: right;\n",
       "    }\n",
       "</style>\n",
       "<table border=\"1\" class=\"dataframe\">\n",
       "  <thead>\n",
       "    <tr style=\"text-align: right;\">\n",
       "      <th></th>\n",
       "      <th>Respondent</th>\n",
       "      <th>Salary</th>\n",
       "      <th>CareerSatisfaction</th>\n",
       "      <th>HoursPerWeek</th>\n",
       "      <th>JobSatisfaction</th>\n",
       "    </tr>\n",
       "  </thead>\n",
       "  <tbody>\n",
       "    <tr>\n",
       "      <th>count</th>\n",
       "      <td>19102.000000</td>\n",
       "      <td>5009.000000</td>\n",
       "      <td>16102.000000</td>\n",
       "      <td>7721.000000</td>\n",
       "      <td>15253.000000</td>\n",
       "    </tr>\n",
       "    <tr>\n",
       "      <th>mean</th>\n",
       "      <td>9551.500000</td>\n",
       "      <td>58341.398571</td>\n",
       "      <td>7.343932</td>\n",
       "      <td>3.685922</td>\n",
       "      <td>7.000721</td>\n",
       "    </tr>\n",
       "    <tr>\n",
       "      <th>std</th>\n",
       "      <td>5514.416757</td>\n",
       "      <td>40753.384986</td>\n",
       "      <td>1.919330</td>\n",
       "      <td>7.330691</td>\n",
       "      <td>2.128648</td>\n",
       "    </tr>\n",
       "    <tr>\n",
       "      <th>min</th>\n",
       "      <td>1.000000</td>\n",
       "      <td>0.000000</td>\n",
       "      <td>0.000000</td>\n",
       "      <td>0.000000</td>\n",
       "      <td>0.000000</td>\n",
       "    </tr>\n",
       "    <tr>\n",
       "      <th>25%</th>\n",
       "      <td>4776.250000</td>\n",
       "      <td>27956.989247</td>\n",
       "      <td>6.000000</td>\n",
       "      <td>0.000000</td>\n",
       "      <td>6.000000</td>\n",
       "    </tr>\n",
       "    <tr>\n",
       "      <th>50%</th>\n",
       "      <td>9551.500000</td>\n",
       "      <td>51612.903226</td>\n",
       "      <td>8.000000</td>\n",
       "      <td>1.000000</td>\n",
       "      <td>7.000000</td>\n",
       "    </tr>\n",
       "    <tr>\n",
       "      <th>75%</th>\n",
       "      <td>14326.750000</td>\n",
       "      <td>83333.333333</td>\n",
       "      <td>9.000000</td>\n",
       "      <td>3.000000</td>\n",
       "      <td>8.000000</td>\n",
       "    </tr>\n",
       "    <tr>\n",
       "      <th>max</th>\n",
       "      <td>19102.000000</td>\n",
       "      <td>195000.000000</td>\n",
       "      <td>10.000000</td>\n",
       "      <td>40.000000</td>\n",
       "      <td>10.000000</td>\n",
       "    </tr>\n",
       "  </tbody>\n",
       "</table>\n",
       "</div>"
      ],
      "text/plain": [
       "         Respondent         Salary  CareerSatisfaction  HoursPerWeek  \\\n",
       "count  19102.000000    5009.000000        16102.000000   7721.000000   \n",
       "mean    9551.500000   58341.398571            7.343932      3.685922   \n",
       "std     5514.416757   40753.384986            1.919330      7.330691   \n",
       "min        1.000000       0.000000            0.000000      0.000000   \n",
       "25%     4776.250000   27956.989247            6.000000      0.000000   \n",
       "50%     9551.500000   51612.903226            8.000000      1.000000   \n",
       "75%    14326.750000   83333.333333            9.000000      3.000000   \n",
       "max    19102.000000  195000.000000           10.000000     40.000000   \n",
       "\n",
       "       JobSatisfaction  \n",
       "count     15253.000000  \n",
       "mean          7.000721  \n",
       "std           2.128648  \n",
       "min           0.000000  \n",
       "25%           6.000000  \n",
       "50%           7.000000  \n",
       "75%           8.000000  \n",
       "max          10.000000  "
      ]
     },
     "execution_count": 36,
     "metadata": {},
     "output_type": "execute_result"
    }
   ],
   "source": [
    "df3.describe()"
   ]
  },
  {
   "cell_type": "code",
   "execution_count": 37,
   "id": "efe72440",
   "metadata": {},
   "outputs": [],
   "source": [
    "#fill columns with mean (as it will work better)\n",
    "df3['Salary'].fillna(int(df3['Salary'].mean()), inplace=True) \n",
    "df3['HoursPerWeek'].fillna(int(df3['HoursPerWeek'].mean()), inplace=True) \n",
    "\n",
    "#fill columns with mode (as it will work better)\n",
    "df3['CareerSatisfaction'].fillna(df3['CareerSatisfaction'].mode()[0], inplace=True)\n",
    "df3['JobSatisfaction'].fillna(df3['JobSatisfaction'].mode()[0], inplace=True)"
   ]
  },
  {
   "cell_type": "code",
   "execution_count": 38,
   "id": "b4623e20",
   "metadata": {},
   "outputs": [
    {
     "data": {
      "text/plain": [
       "Respondent            0.0%\n",
       "Salary                0.0%\n",
       "CareerSatisfaction    0.0%\n",
       "HoursPerWeek          0.0%\n",
       "JobSatisfaction       0.0%\n",
       "dtype: object"
      ]
     },
     "execution_count": 38,
     "metadata": {},
     "output_type": "execute_result"
    }
   ],
   "source": [
    "#percentage of missing values per column, rounded up \n",
    "round(df3.isnull().sum()/len(df3)*100,0).astype(str) + '%'"
   ]
  },
  {
   "cell_type": "code",
   "execution_count": 39,
   "id": "2fc4ff8d",
   "metadata": {},
   "outputs": [
    {
     "data": {
      "image/png": "[encoded data removed]",
      "text/plain": [
       "<Figure size 576x360 with 2 Axes>"
      ]
     },
     "metadata": {
      "needs_background": "light"
     },
     "output_type": "display_data"
    }
   ],
   "source": [
    "#heatmap after data cleansing\n",
    "corr_matrix = df3.corr()\n",
    "plt.figure(figsize = (8,5))\n",
    "sns.heatmap(corr_matrix, cmap=\"Spectral\", annot=True, fmt='.2f')\n",
    "plt.show()"
   ]
  },
  {
   "cell_type": "code",
   "execution_count": 40,
   "id": "1a5786ef",
   "metadata": {},
   "outputs": [
    {
     "data": {
      "text/html": [
       "<div>\n",
       "<style scoped>\n",
       "    .dataframe tbody tr th:only-of-type {\n",
       "        vertical-align: middle;\n",
       "    }\n",
       "\n",
       "    .dataframe tbody tr th {\n",
       "        vertical-align: top;\n",
       "    }\n",
       "\n",
       "    .dataframe thead th {\n",
       "        text-align: right;\n",
       "    }\n",
       "</style>\n",
       "<table border=\"1\" class=\"dataframe\">\n",
       "  <thead>\n",
       "    <tr style=\"text-align: right;\">\n",
       "      <th></th>\n",
       "      <th>Respondent</th>\n",
       "      <th>Salary</th>\n",
       "      <th>CareerSatisfaction</th>\n",
       "      <th>HoursPerWeek</th>\n",
       "      <th>JobSatisfaction</th>\n",
       "    </tr>\n",
       "  </thead>\n",
       "  <tbody>\n",
       "    <tr>\n",
       "      <th>0</th>\n",
       "      <td>1</td>\n",
       "      <td>58341.0</td>\n",
       "      <td>8.0</td>\n",
       "      <td>0.0</td>\n",
       "      <td>8.0</td>\n",
       "    </tr>\n",
       "    <tr>\n",
       "      <th>1</th>\n",
       "      <td>2</td>\n",
       "      <td>58341.0</td>\n",
       "      <td>8.0</td>\n",
       "      <td>3.0</td>\n",
       "      <td>8.0</td>\n",
       "    </tr>\n",
       "    <tr>\n",
       "      <th>2</th>\n",
       "      <td>3</td>\n",
       "      <td>113750.0</td>\n",
       "      <td>8.0</td>\n",
       "      <td>3.0</td>\n",
       "      <td>9.0</td>\n",
       "    </tr>\n",
       "    <tr>\n",
       "      <th>3</th>\n",
       "      <td>4</td>\n",
       "      <td>58341.0</td>\n",
       "      <td>6.0</td>\n",
       "      <td>5.0</td>\n",
       "      <td>3.0</td>\n",
       "    </tr>\n",
       "    <tr>\n",
       "      <th>4</th>\n",
       "      <td>5</td>\n",
       "      <td>58341.0</td>\n",
       "      <td>6.0</td>\n",
       "      <td>3.0</td>\n",
       "      <td>8.0</td>\n",
       "    </tr>\n",
       "  </tbody>\n",
       "</table>\n",
       "</div>"
      ],
      "text/plain": [
       "   Respondent    Salary  CareerSatisfaction  HoursPerWeek  JobSatisfaction\n",
       "0           1   58341.0                 8.0           0.0              8.0\n",
       "1           2   58341.0                 8.0           3.0              8.0\n",
       "2           3  113750.0                 8.0           3.0              9.0\n",
       "3           4   58341.0                 6.0           5.0              3.0\n",
       "4           5   58341.0                 6.0           3.0              8.0"
      ]
     },
     "execution_count": 40,
     "metadata": {},
     "output_type": "execute_result"
    }
   ],
   "source": [
    "df3.head()"
   ]
  },
  {
   "cell_type": "code",
   "execution_count": 41,
   "id": "5c19e1b6",
   "metadata": {},
   "outputs": [
    {
     "name": "stdout",
     "output_type": "stream",
     "text": [
      "Test score r2:  1.0 , Train score r2:  1.0\n"
     ]
    }
   ],
   "source": [
    "#split into explanatory and response variables\n",
    "X = df3[['Respondent','Salary','CareerSatisfaction','HoursPerWeek', 'JobSatisfaction']]\n",
    "y = df3['CareerSatisfaction']\n",
    "\n",
    "#split into train and test\n",
    "X_train, X_test, y_train, y_test = train_test_split(X, y, test_size = .30, random_state=42) \n",
    "\n",
    "lm_model = LinearRegression(normalize=True) \n",
    "lm_model.fit(X_train, y_train) \n",
    "\n",
    "#predict using your model\n",
    "y_test_preds = lm_model.predict(X_test)\n",
    "y_train_preds = lm_model.predict(X_train)\n",
    "\n",
    "#score using your model\n",
    "test_score = r2_score(y_test, y_test_preds)\n",
    "train_score = r2_score(y_train, y_train_preds)\n",
    "\n",
    "print(\"Test score r2: \", test_score, \", Train score r2: \",train_score)"
   ]
  },
  {
   "cell_type": "markdown",
   "id": "76300d1a",
   "metadata": {},
   "source": [
    "### Outcome for Q3\n",
    "\n",
    "- The heatmap suggests a moderate positive correlation between “Career Satisfaction” and “Job Satisfaction” but no correlation between “Salary” and “Hours Per Week” with the “Career Satisfaction”. \n",
    "- The Linear Regression most likely overfits, requiring another look at the data used."
   ]
  }
 ],
 "metadata": {
  "kernelspec": {
   "display_name": "Python 3 (ipykernel)",
   "language": "python",
   "name": "python3"
  },
  "language_info": {
   "codemirror_mode": {
    "name": "ipython",
    "version": 3
   },
   "file_extension": ".py",
   "mimetype": "text/x-python",
   "name": "python",
   "nbconvert_exporter": "python",
   "pygments_lexer": "ipython3",
   "version": "3.9.7"
  }
 },
 "nbformat": 4,
 "nbformat_minor": 5
}
